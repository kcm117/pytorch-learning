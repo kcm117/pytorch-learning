{
  "cells": [
    {
      "metadata": {
        "trusted": true
      },
      "cell_type": "code",
      "source": "import torch",
      "execution_count": 1,
      "outputs": []
    },
    {
      "metadata": {
        "trusted": true
      },
      "cell_type": "code",
      "source": "# Create approx linear model",
      "execution_count": 2,
      "outputs": []
    },
    {
      "metadata": {
        "trusted": true
      },
      "cell_type": "code",
      "source": "w = torch.tensor(3.0, requires_grad=True) # Slope\nb = torch.tensor(1.0, requires_grad=True) # Y intercept / Bias",
      "execution_count": 3,
      "outputs": []
    },
    {
      "metadata": {
        "trusted": true
      },
      "cell_type": "code",
      "source": "# Forward Function\ndef forward(x):\n    '''\n    recieves input to be passed into linear model\n    '''\n    y = w*x.float() + b\n    return(y)",
      "execution_count": 4,
      "outputs": []
    },
    {
      "metadata": {
        "trusted": true
      },
      "cell_type": "code",
      "source": "x = torch.tensor(2) # One Input\nforward(x)",
      "execution_count": 5,
      "outputs": [
        {
          "output_type": "execute_result",
          "execution_count": 5,
          "data": {
            "text/plain": "tensor(7., grad_fn=<ThAddBackward>)"
          },
          "metadata": {}
        }
      ]
    },
    {
      "metadata": {
        "trusted": true
      },
      "cell_type": "code",
      "source": "x = torch.tensor([[4],[7]])# Two Inputs\nforward(x)",
      "execution_count": 6,
      "outputs": [
        {
          "output_type": "execute_result",
          "execution_count": 6,
          "data": {
            "text/plain": "tensor([[13.],\n        [22.]], grad_fn=<ThAddBackward>)"
          },
          "metadata": {}
        }
      ]
    },
    {
      "metadata": {},
      "cell_type": "markdown",
      "source": "# Standardized Way of Linear Class"
    },
    {
      "metadata": {
        "trusted": true
      },
      "cell_type": "code",
      "source": "from torch.nn import Linear",
      "execution_count": 7,
      "outputs": []
    },
    {
      "metadata": {
        "trusted": true
      },
      "cell_type": "code",
      "source": "torch.manual_seed(1)\nmodel = Linear(in_features=1, out_features=1) # For every output, there is a single input\nprint(model.bias,model.weight)",
      "execution_count": 8,
      "outputs": [
        {
          "output_type": "stream",
          "text": "Parameter containing:\ntensor([-0.4414], requires_grad=True) Parameter containing:\ntensor([[0.5153]], requires_grad=True)\n",
          "name": "stdout"
        }
      ]
    },
    {
      "metadata": {
        "trusted": true
      },
      "cell_type": "code",
      "source": "x = torch.tensor([2.0])  # This is a float\nprint(model(x))",
      "execution_count": 9,
      "outputs": [
        {
          "output_type": "stream",
          "text": "tensor([0.5891], grad_fn=<ThAddBackward>)\n",
          "name": "stdout"
        }
      ]
    },
    {
      "metadata": {
        "trusted": true
      },
      "cell_type": "code",
      "source": "# Make several predictions\nx = torch.tensor([[2.0],[3.3]])\nprint(model(x))",
      "execution_count": 10,
      "outputs": [
        {
          "output_type": "stream",
          "text": "tensor([[0.5891],\n        [1.2590]], grad_fn=<ThAddmmBackward>)\n",
          "name": "stdout"
        }
      ]
    },
    {
      "metadata": {},
      "cell_type": "markdown",
      "source": "# Custom Class"
    },
    {
      "metadata": {
        "trusted": true
      },
      "cell_type": "code",
      "source": "import torch\nimport torch.nn as nn",
      "execution_count": 12,
      "outputs": []
    },
    {
      "metadata": {
        "trusted": true
      },
      "cell_type": "code",
      "source": "class LR(nn.Module): # inherit\n    def __init__(self, input_size, output_size):\n        super().__init__()\n        self.linear = nn.Linear(input_size, output_size)\n    def forward(self,x):\n        '''\n        For making predictions on x value\n        '''\n        pred = self.linear(x)\n        return pred",
      "execution_count": 17,
      "outputs": []
    },
    {
      "metadata": {
        "trusted": true
      },
      "cell_type": "code",
      "source": "torch.manual_seed(1)\nmodel = LR(1,1)\nprint(list(model.parameters()))",
      "execution_count": 15,
      "outputs": [
        {
          "output_type": "stream",
          "text": "[Parameter containing:\ntensor([[0.5153]], requires_grad=True), Parameter containing:\ntensor([-0.4414], requires_grad=True)]\n",
          "name": "stdout"
        }
      ]
    },
    {
      "metadata": {
        "trusted": true
      },
      "cell_type": "code",
      "source": "x = torch.tensor([[1.0],[2.0]])\nprint(model.forward(x))",
      "execution_count": 19,
      "outputs": [
        {
          "output_type": "stream",
          "text": "tensor([[0.0739],\n        [0.5891]], grad_fn=<ThAddmmBackward>)\n",
          "name": "stdout"
        }
      ]
    },
    {
      "metadata": {},
      "cell_type": "markdown",
      "source": "# Training with a dataset"
    },
    {
      "metadata": {
        "trusted": true
      },
      "cell_type": "code",
      "source": "import matplotlib.pyplot as plt\nimport numpy as np",
      "execution_count": 47,
      "outputs": []
    },
    {
      "metadata": {
        "trusted": true
      },
      "cell_type": "code",
      "source": "%matplotlib inline",
      "execution_count": 31,
      "outputs": []
    },
    {
      "metadata": {
        "trusted": true
      },
      "cell_type": "code",
      "source": "# Return tensor with normally distributed values, input is shape\nX = torch.randn(100,1) * 10 # 100 points with a single value\ny = X + 3*torch.randn(100,1) # function of x with noise\nplt.scatter(X.numpy(),y.numpy(), marker='o')\n\nplt.ylabel('y')\nplt.xlabel('x')",
      "execution_count": 33,
      "outputs": [
        {
          "output_type": "execute_result",
          "execution_count": 33,
          "data": {
            "text/plain": "Text(0.5,0,'x')"
          },
          "metadata": {}
        },
        {
          "output_type": "display_data",
          "data": {
            "image/png": "[encoded data removed]",
            "text/plain": "<matplotlib.figure.Figure at 0x7f92d4755cf8>"
          },
          "metadata": {}
        }
      ]
    },
    {
      "metadata": {
        "trusted": true
      },
      "cell_type": "code",
      "source": "# Fit the dataset",
      "execution_count": 34,
      "outputs": []
    },
    {
      "metadata": {
        "trusted": true
      },
      "cell_type": "code",
      "source": "class LR(nn.Module): # inherit\n    def __init__(self, input_size, output_size):\n        super().__init__()\n        self.linear = nn.Linear(input_size, output_size)\n    def forward(self,x):\n        '''\n        For making predictions on x value\n        '''\n        pred = self.linear(x)\n        return pred",
      "execution_count": 35,
      "outputs": []
    },
    {
      "metadata": {
        "trusted": true
      },
      "cell_type": "code",
      "source": "torch.manual_seed(1)\nmodel = LR(1,1)\nprint(model)",
      "execution_count": 37,
      "outputs": [
        {
          "output_type": "stream",
          "text": "LR(\n  (linear): Linear(in_features=1, out_features=1, bias=True)\n)\n",
          "name": "stdout"
        }
      ]
    },
    {
      "metadata": {
        "trusted": true
      },
      "cell_type": "code",
      "source": "# Unpack model parameters\n[w, b] = model.parameters()\n\ndef get_params():\n    return (w[0][0].item(), b[0].item())",
      "execution_count": 43,
      "outputs": []
    },
    {
      "metadata": {
        "trusted": true
      },
      "cell_type": "code",
      "source": "def plot_fit(title):\n    plt.title = title\n    w1, b1 = get_params()\n    # has to be numpy array, not tensor\n    x1 = np.array([-30,30])\n    y1 = w1*x1 + b1 # will return two y1 points\n    plt.plot(x1, y1, 'r')\n    plt.scatter(X,y)\n    plt.show()",
      "execution_count": 48,
      "outputs": []
    },
    {
      "metadata": {
        "trusted": true
      },
      "cell_type": "code",
      "source": "plot_fit('Initial Model') # need to use gradient descent to update parameters, line does not fit well.",
      "execution_count": 49,
      "outputs": [
        {
          "output_type": "display_data",
          "data": {
            "image/png": "[encoded data removed]",
            "text/plain": "<matplotlib.figure.Figure at 0x7f92d46ee438>"
          },
          "metadata": {}
        }
      ]
    },
    {
      "metadata": {},
      "cell_type": "markdown",
      "source": "https://www.udemy.com/pytorch-for-deep-learning-and-computer-vision/learn/lecture/13148820#content # Gradient descent in small steps (learning rate)"
    },
    {
      "metadata": {},
      "cell_type": "markdown",
      "source": "- Start with random weight\n- next weight is the first weight minus (the derivative of the error function * the learning rate)\n- keep doing this until weights converge (error approaches zero)"
    },
    {
      "metadata": {
        "trusted": true
      },
      "cell_type": "code",
      "source": "",
      "execution_count": null,
      "outputs": []
    },
    {
      "metadata": {
        "trusted": true
      },
      "cell_type": "code",
      "source": "",
      "execution_count": null,
      "outputs": []
    },
    {
      "metadata": {
        "trusted": true
      },
      "cell_type": "code",
      "source": "",
      "execution_count": null,
      "outputs": []
    },
    {
      "metadata": {
        "trusted": true
      },
      "cell_type": "code",
      "source": "",
      "execution_count": null,
      "outputs": []
    },
    {
      "metadata": {
        "trusted": true
      },
      "cell_type": "code",
      "source": "",
      "execution_count": null,
      "outputs": []
    }
  ],
  "metadata": {
    "kernelspec": {
      "name": "python3",
      "display_name": "Python 3",
      "language": "python"
    },
    "language_info": {
      "mimetype": "text/x-python",
      "nbconvert_exporter": "python",
      "name": "python",
      "file_extension": ".py",
      "version": "3.5.4",
      "pygments_lexer": "ipython3",
      "codemirror_mode": {
        "version": 3,
        "name": "ipython"
      }
    }
  },
  "nbformat": 4,
  "nbformat_minor": 2
}