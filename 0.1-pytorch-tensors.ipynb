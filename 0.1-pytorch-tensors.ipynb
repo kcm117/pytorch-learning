{
  "cells": [
    {
      "metadata": {
        "trusted": true
      },
      "cell_type": "code",
      "source": "!pip3 install torch",
      "execution_count": 3,
      "outputs": [
        {
          "output_type": "stream",
          "text": "Requirement already satisfied: torch in /home/nbuser/anaconda3_501/lib/python3.6/site-packages (1.1.0)\nRequirement already satisfied: numpy in /home/nbuser/anaconda3_501/lib/python3.6/site-packages (from torch) (1.16.2)\n\u001b[33mWARNING: You are using pip version 19.1.1, however version 19.2.1 is available.\nYou should consider upgrading via the 'pip install --upgrade pip' command.\u001b[0m\n",
          "name": "stdout"
        }
      ]
    },
    {
      "metadata": {
        "trusted": true
      },
      "cell_type": "code",
      "source": "import torch",
      "execution_count": 1,
      "outputs": []
    },
    {
      "metadata": {
        "trusted": true
      },
      "cell_type": "code",
      "source": "# Creating a 1-D tensor\nv = torch.tensor([1,2,3,4,5,6])\nprint(v)",
      "execution_count": 6,
      "outputs": [
        {
          "output_type": "stream",
          "text": "tensor([1, 2, 3, 4, 5, 6])\n",
          "name": "stdout"
        }
      ]
    },
    {
      "metadata": {
        "trusted": true
      },
      "cell_type": "code",
      "source": "# Viewing the data type\nprint(v.dtype)",
      "execution_count": 7,
      "outputs": [
        {
          "output_type": "stream",
          "text": "torch.int64\n",
          "name": "stdout"
        }
      ]
    },
    {
      "metadata": {
        "trusted": true
      },
      "cell_type": "code",
      "source": "# indexing\nprint(v[1])",
      "execution_count": 8,
      "outputs": [
        {
          "output_type": "stream",
          "text": "tensor(2)\n",
          "name": "stdout"
        }
      ]
    },
    {
      "metadata": {
        "trusted": true
      },
      "cell_type": "code",
      "source": "# Index slicing\nprint(v[1:])",
      "execution_count": 9,
      "outputs": [
        {
          "output_type": "stream",
          "text": "tensor([2, 3, 4, 5, 6])\n",
          "name": "stdout"
        }
      ]
    },
    {
      "metadata": {
        "trusted": true
      },
      "cell_type": "code",
      "source": "f = torch.FloatTensor([1,2,3,4,5,6])\nprint(f)",
      "execution_count": 11,
      "outputs": [
        {
          "output_type": "stream",
          "text": "tensor([1., 2., 3., 4., 5., 6.])\n",
          "name": "stdout"
        }
      ]
    },
    {
      "metadata": {
        "trusted": true
      },
      "cell_type": "code",
      "source": "# Size\nprint(f.size())",
      "execution_count": 12,
      "outputs": [
        {
          "output_type": "stream",
          "text": "torch.Size([6])\n",
          "name": "stdout"
        }
      ]
    },
    {
      "metadata": {
        "trusted": true
      },
      "cell_type": "code",
      "source": "# Type\n# Size\nprint(f.dtype)",
      "execution_count": 14,
      "outputs": [
        {
          "output_type": "stream",
          "text": "torch.float32\n",
          "name": "stdout"
        }
      ]
    },
    {
      "metadata": {
        "trusted": true
      },
      "cell_type": "code",
      "source": "# Reshape to 6 rows in 1 column (Rows, Column)\nv.view(6,1)",
      "execution_count": 13,
      "outputs": [
        {
          "output_type": "execute_result",
          "execution_count": 13,
          "data": {
            "text/plain": "tensor([[1],\n        [2],\n        [3],\n        [4],\n        [5],\n        [6]])"
          },
          "metadata": {}
        }
      ]
    },
    {
      "metadata": {
        "trusted": true
      },
      "cell_type": "code",
      "source": "# Reshape with neagtive, value inferred based on length of tensor\n# E.g. length of vector is 6, it has 3 rows, therefore it must have two columns\nv.view(3,-1)",
      "execution_count": 16,
      "outputs": [
        {
          "output_type": "execute_result",
          "execution_count": 16,
          "data": {
            "text/plain": "tensor([[1, 2],\n        [3, 4],\n        [5, 6]])"
          },
          "metadata": {}
        }
      ]
    },
    {
      "metadata": {
        "trusted": true
      },
      "cell_type": "code",
      "source": "import numpy as np",
      "execution_count": 19,
      "outputs": []
    },
    {
      "metadata": {
        "trusted": true
      },
      "cell_type": "code",
      "source": "# Convert Numpy array to tensor\na = np.array([1,2,3,4,5])\ntensor_cnv = torch.from_numpy(a)\nprint(tensor_cnv)\nprint(tensor_cnv.type())",
      "execution_count": 24,
      "outputs": [
        {
          "output_type": "stream",
          "text": "tensor([1, 2, 3, 4, 5])\ntorch.LongTensor\n",
          "name": "stdout"
        }
      ]
    },
    {
      "metadata": {
        "trusted": true
      },
      "cell_type": "code",
      "source": "# Convert Tensor back to Numpy\nnumpy_cnv = tensor_cnv.numpy\nprint(numpy_cnv)",
      "execution_count": 23,
      "outputs": [
        {
          "output_type": "stream",
          "text": "<built-in method numpy of Tensor object at 0x7fa8ab4ffc60>\n",
          "name": "stdout"
        }
      ]
    },
    {
      "metadata": {
        "trusted": true
      },
      "cell_type": "code",
      "source": "",
      "execution_count": null,
      "outputs": []
    }
  ],
  "metadata": {
    "kernelspec": {
      "name": "python36",
      "display_name": "Python 3.6",
      "language": "python"
    },
    "language_info": {
      "mimetype": "text/x-python",
      "nbconvert_exporter": "python",
      "name": "python",
      "pygments_lexer": "ipython3",
      "version": "3.6.6",
      "file_extension": ".py",
      "codemirror_mode": {
        "version": 3,
        "name": "ipython"
      }
    }
  },
  "nbformat": 4,
  "nbformat_minor": 2
}