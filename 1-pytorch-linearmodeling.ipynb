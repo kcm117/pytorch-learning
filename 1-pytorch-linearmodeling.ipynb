{
  "cells": [
    {
      "metadata": {
        "trusted": true
      },
      "cell_type": "code",
      "source": "import torch",
      "execution_count": 1,
      "outputs": []
    },
    {
      "metadata": {
        "trusted": true
      },
      "cell_type": "code",
      "source": "# Create approx linear model",
      "execution_count": 2,
      "outputs": []
    },
    {
      "metadata": {
        "trusted": true
      },
      "cell_type": "code",
      "source": "w = torch.tensor(3.0, requires_grad=True) # Slope\nb = torch.tensor(1.0, requires_grad=True) # Y intercept / Bias",
      "execution_count": 3,
      "outputs": []
    },
    {
      "metadata": {
        "trusted": true
      },
      "cell_type": "code",
      "source": "# Forward Function\ndef forward(x):\n    '''\n    recieves input to be passed into linear model\n    '''\n    y = w*x.float() + b\n    return(y)",
      "execution_count": 4,
      "outputs": []
    },
    {
      "metadata": {
        "trusted": true
      },
      "cell_type": "code",
      "source": "x = torch.tensor(2) # One Input\nforward(x)",
      "execution_count": 5,
      "outputs": [
        {
          "output_type": "execute_result",
          "execution_count": 5,
          "data": {
            "text/plain": "tensor(7., grad_fn=<ThAddBackward>)"
          },
          "metadata": {}
        }
      ]
    },
    {
      "metadata": {
        "trusted": true
      },
      "cell_type": "code",
      "source": "x = torch.tensor([[4],[7]])# Two Inputs\nforward(x)",
      "execution_count": 6,
      "outputs": [
        {
          "output_type": "execute_result",
          "execution_count": 6,
          "data": {
            "text/plain": "tensor([[13.],\n        [22.]], grad_fn=<ThAddBackward>)"
          },
          "metadata": {}
        }
      ]
    },
    {
      "metadata": {},
      "cell_type": "markdown",
      "source": "# Standardized Way of Linear Class"
    },
    {
      "metadata": {
        "trusted": true
      },
      "cell_type": "code",
      "source": "from torch.nn import Linear",
      "execution_count": 7,
      "outputs": []
    },
    {
      "metadata": {
        "trusted": true
      },
      "cell_type": "code",
      "source": "torch.manual_seed(1)\nmodel = Linear(in_features=1, out_features=1) # For every output, there is a single input\nprint(model.bias,model.weight)",
      "execution_count": 8,
      "outputs": [
        {
          "output_type": "stream",
          "text": "Parameter containing:\ntensor([-0.4414], requires_grad=True) Parameter containing:\ntensor([[0.5153]], requires_grad=True)\n",
          "name": "stdout"
        }
      ]
    },
    {
      "metadata": {
        "trusted": true
      },
      "cell_type": "code",
      "source": "x = torch.tensor([2.0])  # This is a float\nprint(model(x))",
      "execution_count": 9,
      "outputs": [
        {
          "output_type": "stream",
          "text": "tensor([0.5891], grad_fn=<ThAddBackward>)\n",
          "name": "stdout"
        }
      ]
    },
    {
      "metadata": {
        "trusted": true
      },
      "cell_type": "code",
      "source": "# Make several predictions\nx = torch.tensor([[2.0],[3.3]])\nprint(model(x))",
      "execution_count": 10,
      "outputs": [
        {
          "output_type": "stream",
          "text": "tensor([[0.5891],\n        [1.2590]], grad_fn=<ThAddmmBackward>)\n",
          "name": "stdout"
        }
      ]
    },
    {
      "metadata": {},
      "cell_type": "markdown",
      "source": "# Custom Class"
    },
    {
      "metadata": {
        "trusted": true
      },
      "cell_type": "code",
      "source": "import torch\nimport torch.nn as nn",
      "execution_count": 11,
      "outputs": []
    },
    {
      "metadata": {
        "trusted": true
      },
      "cell_type": "code",
      "source": "class LR(nn.Module): # inherit\n    def __init__(self, input_size, output_size):\n        super().__init__()\n        self.linear = nn.Linear(input_size, output_size)\n    def forward(self,x):\n        '''\n        For making predictions on x value\n        '''\n        pred = self.linear(x)\n        return pred",
      "execution_count": 12,
      "outputs": []
    },
    {
      "metadata": {
        "trusted": true
      },
      "cell_type": "code",
      "source": "torch.manual_seed(1)\nmodel = LR(1,1)\nprint(list(model.parameters()))",
      "execution_count": 13,
      "outputs": [
        {
          "output_type": "stream",
          "text": "[Parameter containing:\ntensor([[0.5153]], requires_grad=True), Parameter containing:\ntensor([-0.4414], requires_grad=True)]\n",
          "name": "stdout"
        }
      ]
    },
    {
      "metadata": {
        "trusted": true
      },
      "cell_type": "code",
      "source": "x = torch.tensor([[1.0],[2.0]])\nprint(model.forward(x))",
      "execution_count": 14,
      "outputs": [
        {
          "output_type": "stream",
          "text": "tensor([[0.0739],\n        [0.5891]], grad_fn=<ThAddmmBackward>)\n",
          "name": "stdout"
        }
      ]
    },
    {
      "metadata": {},
      "cell_type": "markdown",
      "source": "# Training with a dataset"
    },
    {
      "metadata": {
        "trusted": true
      },
      "cell_type": "code",
      "source": "import matplotlib.pyplot as plt\nimport numpy as np",
      "execution_count": 15,
      "outputs": []
    },
    {
      "metadata": {
        "trusted": true
      },
      "cell_type": "code",
      "source": "%matplotlib inline",
      "execution_count": 16,
      "outputs": []
    },
    {
      "metadata": {
        "trusted": true
      },
      "cell_type": "code",
      "source": "# Return tensor with normally distributed values, input is shape\nX = torch.randn(100,1) * 10 # 100 points with a single value\ny = X + 3*torch.randn(100,1) # function of x with noise\nplt.scatter(X.numpy(),y.numpy(), marker='o')\n\nplt.ylabel('y')\nplt.xlabel('x')",
      "execution_count": 17,
      "outputs": [
        {
          "output_type": "execute_result",
          "execution_count": 17,
          "data": {
            "text/plain": "Text(0.5,0,'x')"
          },
          "metadata": {}
        },
        {
          "output_type": "display_data",
          "data": {
            "image/png": "[encoded data removed]",
            "text/plain": "<matplotlib.figure.Figure at 0x7f58f87ed0f0>"
          },
          "metadata": {}
        }
      ]
    },
    {
      "metadata": {
        "trusted": true
      },
      "cell_type": "code",
      "source": "# Fit the dataset",
      "execution_count": 18,
      "outputs": []
    },
    {
      "metadata": {
        "trusted": true
      },
      "cell_type": "code",
      "source": "class LR(nn.Module): # inherit\n    def __init__(self, input_size, output_size):\n        super().__init__()\n        self.linear = nn.Linear(input_size, output_size)\n    def forward(self,x):\n        '''\n        For making predictions on x value\n        '''\n        pred = self.linear(x)\n        return pred",
      "execution_count": 19,
      "outputs": []
    },
    {
      "metadata": {
        "trusted": true
      },
      "cell_type": "code",
      "source": "torch.manual_seed(1)\nmodel = LR(1,1)\nprint(model)",
      "execution_count": 20,
      "outputs": [
        {
          "output_type": "stream",
          "text": "LR(\n  (linear): Linear(in_features=1, out_features=1, bias=True)\n)\n",
          "name": "stdout"
        }
      ]
    },
    {
      "metadata": {
        "trusted": true
      },
      "cell_type": "code",
      "source": "# Unpack model parameters\n[w, b] = model.parameters()\n\ndef get_params():\n    return (w[0][0].item(), b[0].item())",
      "execution_count": 21,
      "outputs": []
    },
    {
      "metadata": {
        "trusted": true
      },
      "cell_type": "code",
      "source": "def plot_fit(title):\n    plt.title = title\n    w1, b1 = get_params()\n    # has to be numpy array, not tensor\n    x1 = np.array([-30,30])\n    y1 = w1*x1 + b1 # will return two y1 points\n    plt.plot(x1, y1, 'r')\n    plt.scatter(X,y)\n    plt.show()",
      "execution_count": 22,
      "outputs": []
    },
    {
      "metadata": {
        "trusted": true
      },
      "cell_type": "code",
      "source": "plot_fit('Initial Model') # need to use gradient descent to update parameters, line does not fit well.",
      "execution_count": 23,
      "outputs": [
        {
          "output_type": "display_data",
          "data": {
            "image/png": "[encoded data removed]",
            "text/plain": "<matplotlib.figure.Figure at 0x7f58f987ca20>"
          },
          "metadata": {}
        }
      ]
    },
    {
      "metadata": {},
      "cell_type": "markdown",
      "source": "https://www.udemy.com/pytorch-for-deep-learning-and-computer-vision/learn/lecture/13148820#content # Gradient descent in small steps (learning rate)"
    },
    {
      "metadata": {},
      "cell_type": "markdown",
      "source": "- Start with random weight\n- next weight is the first weight minus (the derivative of the error function * the learning rate)\n- keep doing this until weights converge (error approaches zero)"
    },
    {
      "metadata": {
        "trusted": true
      },
      "cell_type": "markdown",
      "source": "# Built in Loss Function (mean squared loss)"
    },
    {
      "metadata": {
        "trusted": true
      },
      "cell_type": "code",
      "source": "criterion = nn.MSELoss()\noptimizer = torch.optim.SGD(model.parameters(), lr = 0.001)",
      "execution_count": 24,
      "outputs": []
    },
    {
      "metadata": {
        "trusted": true
      },
      "cell_type": "code",
      "source": "epochs = 100\nlosses = []\nfor i in range(epochs):\n    y_pred = model.forward(X)\n    loss = criterion(y_pred, y)\n    print(\"epoch:\", i, \"loss:\", loss.item())\n    \n    losses.append(loss.item())\n    optimizer.zero_grad()# Must set gradient to 0 after gradient calculation\n    \n    # Take gradient of loss function (derivative)\n    loss.backward()\n    optimizer.step() # All optimizers implement step, can be computed once gradients are calculated.\n    ",
      "execution_count": 25,
      "outputs": [
        {
          "output_type": "stream",
          "text": "epoch: 0 loss: 36.44832992553711\nepoch: 1 loss: 25.84706687927246\nepoch: 2 loss: 19.274919509887695\nepoch: 3 loss: 15.200485229492188\nepoch: 4 loss: 12.674422264099121\nepoch: 5 loss: 11.10822868347168\nepoch: 6 loss: 10.137072563171387\nepoch: 7 loss: 9.534791946411133\nepoch: 8 loss: 9.161184310913086\nepoch: 9 loss: 8.92933464050293\nepoch: 10 loss: 8.785365104675293\nepoch: 11 loss: 8.69587516784668\nepoch: 12 loss: 8.640158653259277\nepoch: 13 loss: 8.605380058288574\nepoch: 14 loss: 8.58358097076416\nepoch: 15 loss: 8.569830894470215\nepoch: 16 loss: 8.56106948852539\nepoch: 17 loss: 8.555403709411621\nepoch: 18 loss: 8.551656723022461\nepoch: 19 loss: 8.549099922180176\nepoch: 20 loss: 8.547282218933105\nepoch: 21 loss: 8.545924186706543\nepoch: 22 loss: 8.54485034942627\nepoch: 23 loss: 8.543954849243164\nepoch: 24 loss: 8.543170928955078\nepoch: 25 loss: 8.54245662689209\nepoch: 26 loss: 8.541786193847656\nepoch: 27 loss: 8.541145324707031\nepoch: 28 loss: 8.540521621704102\nepoch: 29 loss: 8.539910316467285\nepoch: 30 loss: 8.539307594299316\nepoch: 31 loss: 8.538711547851562\nepoch: 32 loss: 8.538119316101074\nepoch: 33 loss: 8.537531852722168\nepoch: 34 loss: 8.536946296691895\nepoch: 35 loss: 8.536364555358887\nepoch: 36 loss: 8.535784721374512\nepoch: 37 loss: 8.535207748413086\nepoch: 38 loss: 8.53463363647461\nepoch: 39 loss: 8.534061431884766\nepoch: 40 loss: 8.533491134643555\nepoch: 41 loss: 8.532923698425293\nepoch: 42 loss: 8.53235912322998\nepoch: 43 loss: 8.5317964553833\nepoch: 44 loss: 8.531234741210938\nepoch: 45 loss: 8.530675888061523\nepoch: 46 loss: 8.530119895935059\nepoch: 47 loss: 8.52956485748291\nepoch: 48 loss: 8.529012680053711\nepoch: 49 loss: 8.528463363647461\nepoch: 50 loss: 8.527915000915527\nepoch: 51 loss: 8.527369499206543\nepoch: 52 loss: 8.526826858520508\nepoch: 53 loss: 8.526284217834473\nepoch: 54 loss: 8.525745391845703\nepoch: 55 loss: 8.525208473205566\nepoch: 56 loss: 8.524673461914062\nepoch: 57 loss: 8.524140357971191\nepoch: 58 loss: 8.523609161376953\nepoch: 59 loss: 8.523079872131348\nepoch: 60 loss: 8.522554397583008\nepoch: 61 loss: 8.522028923034668\nepoch: 62 loss: 8.521506309509277\nepoch: 63 loss: 8.52098560333252\nepoch: 64 loss: 8.520467758178711\nepoch: 65 loss: 8.519950866699219\nepoch: 66 loss: 8.51943588256836\nepoch: 67 loss: 8.518924713134766\nepoch: 68 loss: 8.518413543701172\nepoch: 69 loss: 8.517905235290527\nepoch: 70 loss: 8.517398834228516\nepoch: 71 loss: 8.516894340515137\nepoch: 72 loss: 8.51639175415039\nepoch: 73 loss: 8.515891075134277\nepoch: 74 loss: 8.515392303466797\nepoch: 75 loss: 8.514896392822266\nepoch: 76 loss: 8.51440143585205\nepoch: 77 loss: 8.513909339904785\nepoch: 78 loss: 8.513418197631836\nepoch: 79 loss: 8.51292896270752\nepoch: 80 loss: 8.512442588806152\nepoch: 81 loss: 8.511957168579102\nepoch: 82 loss: 8.511474609375\nepoch: 83 loss: 8.510993003845215\nepoch: 84 loss: 8.510513305664062\nepoch: 85 loss: 8.510035514831543\nepoch: 86 loss: 8.509560585021973\nepoch: 87 loss: 8.509086608886719\nepoch: 88 loss: 8.508614540100098\nepoch: 89 loss: 8.508145332336426\nepoch: 90 loss: 8.50767707824707\nepoch: 91 loss: 8.507210731506348\nepoch: 92 loss: 8.506745338439941\nepoch: 93 loss: 8.506282806396484\nepoch: 94 loss: 8.50582218170166\nepoch: 95 loss: 8.505363464355469\nepoch: 96 loss: 8.504905700683594\nepoch: 97 loss: 8.504449844360352\nepoch: 98 loss: 8.503996849060059\nepoch: 99 loss: 8.503544807434082\n",
          "name": "stdout"
        }
      ]
    },
    {
      "metadata": {
        "trusted": true
      },
      "cell_type": "code",
      "source": "plt.plot(range(epochs), losses)\nplt.ylabel('Loss')\nplt.xlabel('epoch')",
      "execution_count": 26,
      "outputs": [
        {
          "output_type": "execute_result",
          "execution_count": 26,
          "data": {
            "text/plain": "Text(0.5,0,'epoch')"
          },
          "metadata": {}
        },
        {
          "output_type": "display_data",
          "data": {
            "image/png": "[encoded data removed]",
            "text/plain": "<matplotlib.figure.Figure at 0x7f58f86cb7f0>"
          },
          "metadata": {}
        }
      ]
    },
    {
      "metadata": {
        "trusted": true
      },
      "cell_type": "code",
      "source": "plot_fit(\"Trained Model\")",
      "execution_count": 27,
      "outputs": [
        {
          "output_type": "display_data",
          "data": {
            "image/png": "[encoded data removed]",
            "text/plain": "<matplotlib.figure.Figure at 0x7f58f86fbb00>"
          },
          "metadata": {}
        }
      ]
    }
  ],
  "metadata": {
    "kernelspec": {
      "name": "python3",
      "display_name": "Python 3",
      "language": "python"
    },
    "language_info": {
      "mimetype": "text/x-python",
      "nbconvert_exporter": "python",
      "name": "python",
      "file_extension": ".py",
      "version": "3.5.4",
      "pygments_lexer": "ipython3",
      "codemirror_mode": {
        "version": 3,
        "name": "ipython"
      }
    }
  },
  "nbformat": 4,
  "nbformat_minor": 2
}